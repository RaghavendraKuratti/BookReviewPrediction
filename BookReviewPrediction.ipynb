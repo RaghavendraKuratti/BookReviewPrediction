{
  "nbformat": 4,
  "nbformat_minor": 0,
  "metadata": {
    "colab": {
      "name": "Untitled3.ipynb",
      "provenance": [],
      "authorship_tag": "ABX9TyN10b9fU13r5kMZCdSMn+Eu",
      "include_colab_link": true
    },
    "kernelspec": {
      "name": "python3",
      "display_name": "Python 3"
    }
  },
  "cells": [
    {
      "cell_type": "markdown",
      "metadata": {
        "id": "view-in-github",
        "colab_type": "text"
      },
      "source": [
        "<a href=\"https://colab.research.google.com/github/RaghavendraKuratti/BookReviewPrediction/blob/main/BookReviewPrediction.ipynb\" target=\"_parent\"><img src=\"https://colab.research.google.com/assets/colab-badge.svg\" alt=\"Open In Colab\"/></a>"
      ]
    },
    {
      "cell_type": "code",
      "metadata": {
        "colab": {
          "base_uri": "https://localhost:8080/"
        },
        "id": "p8CKOjlFX0ix",
        "outputId": "ad0d612c-e01c-4b15-bd6f-03919b983a77"
      },
      "source": [
        "import random\r\n",
        "\r\n",
        "class Sentiment:\r\n",
        "\tPOSITIVE = \"POSITIVE\"\r\n",
        "\tNEGATIVE = \"NEGATIVE\"\r\n",
        "\tNEUTRAL = \"NEUTRAL\"\r\n",
        "\t\t\r\n",
        "class Review:\r\n",
        "\t# \"docstring for Review\"\r\n",
        "\tdef __init__(self, text, rate):\r\n",
        "\t\tself.text = text\r\n",
        "\t\tself.rate = rate\r\n",
        "\t\tself.sentiment = self.get_sentiment()\r\n",
        "\r\n",
        "\tdef get_sentiment(self):\r\n",
        "\t\tif self.rate <= 2:\r\n",
        "\t\t\treturn Sentiment.NEGATIVE\r\n",
        "\t\telif self.rate == 3:\r\n",
        "\t\t\treturn Sentiment.NEUTRAL\r\n",
        "\t\telif self.rate > 3:\r\n",
        "\t\t\treturn Sentiment.POSITIVE\r\n",
        "\t\t\r\n",
        "class ReviewCounter:\r\n",
        "\tdef __init__(self, reviews):\r\n",
        "\t\tself.reviews = reviews\r\n",
        "\r\n",
        "\tdef get_text(self):\r\n",
        "\t\treturn [x.text for x in  self.reviews]\r\n",
        "\r\n",
        "\tdef get_y(self):\r\n",
        "\t\treturn [x.sentiment for x in  self.reviews]\r\n",
        "\r\n",
        "\tdef evenly_distrubute(self):\r\n",
        "\t\tnegative = list(filter(lambda x: x.sentiment == Sentiment.NEGATIVE, self.reviews))\r\n",
        "\t\tpositive = list(filter(lambda x: x.sentiment == Sentiment.POSITIVE, self.reviews))\r\n",
        "\t\tpositive = positive[:len(negative)]\r\n",
        "\t\tself.reviews = negative + positive\r\n",
        "\t\trandom.shuffle(self.reviews)\r\n",
        "\r\n",
        "import pandas as pd \r\n",
        "import json\r\n",
        "from sklearn.model_selection import train_test_split\r\n",
        "from sklearn.feature_extraction.text import CountVectorizer\r\n",
        "\r\n",
        "\r\n",
        "file_name = \"Books_small_10000.json\"\r\n",
        "reviews = []\r\n",
        "with open(file_name) as f:\r\n",
        "\tfor line in f:\r\n",
        "\t\treview = json.loads(line)\r\n",
        "\t\treviews.append(Review(review[\"reviewText\"],review[\"overall\"]))\r\n",
        "training, testing = train_test_split(reviews, test_size=0.33, random_state=42)\r\n",
        "\r\n",
        "train_cont = ReviewCounter(training)\r\n",
        "train_cont.evenly_distrubute()\r\n",
        "test_cont = ReviewCounter(testing)\r\n",
        "test_cont.evenly_distrubute()\r\n",
        "\r\n",
        "train_x = train_cont.get_text()\r\n",
        "train_y = train_cont.get_y()\r\n",
        "\r\n",
        "test_x = test_cont.get_text()\r\n",
        "test_y = test_cont.get_y()\r\n",
        "\r\n",
        "vectorizer = CountVectorizer()\r\n",
        "train_data_vect = vectorizer.fit_transform(train_x)\r\n",
        "test_data_vect = vectorizer.transform(test_x)\r\n",
        "\r\n",
        "\r\n",
        "\r\n",
        "\r\n",
        "from sklearn import svm\r\n",
        "clf_svm = svm.SVC(kernel=\"linear\")\r\n",
        "clf_svm.fit(train_data_vect,train_y)\r\n",
        "result = clf_svm.predict(test_data_vect[0])\r\n",
        "# print(result)\r\n",
        "\r\n",
        "from sklearn.tree import DecisionTreeClassifier\r\n",
        "clf_dt = DecisionTreeClassifier()\r\n",
        "clf_dt.fit(train_data_vect,train_y)\r\n",
        "result = clf_dt.predict(test_data_vect[0])\r\n",
        "# print(result)\r\n",
        "\r\n",
        "# from sklearn.naive_bayes import GaussianNB\r\n",
        "# clf_gnb = GaussianNB()\r\n",
        "# clf_gnb.fit(train_data_vect,train_y)\r\n",
        "# result = clf_gnb.predict(test_data_vect)\r\n",
        "# print(result)\r\n",
        "\r\n",
        "from sklearn.linear_model import LogisticRegression\r\n",
        "clf_lr = LogisticRegression()\r\n",
        "clf_lr.fit(train_data_vect,train_y)\r\n",
        "result = clf_lr.predict(test_data_vect[0])\r\n",
        "# print(result)\r\n",
        "\r\n",
        "# print(clf_svm.score(test_data_vect,test_y))\r\n",
        "# print(clf_dt.score(test_data_vect,test_y))\r\n",
        "# print(clf_lr.score(test_data_vect,test_y))\r\n",
        "\r\n",
        "from sklearn.metrics import f1_score\r\n",
        "# print(f1_score(test_y, clf_svm.predict(test_data_vect), average=None,labels=[Sentiment.POSITIVE,Sentiment.NEGATIVE]))\r\n",
        "# print(f1_score(test_y, clf_dt.predict(test_data_vect), average=None,labels=[Sentiment.POSITIVE,Sentiment.NEGATIVE]))\r\n",
        "# print(f1_score(test_y, clf_lr.predict(test_data_vect), average=None,labels=[Sentiment.POSITIVE,Sentiment.NEGATIVE]))\r\n",
        "\r\n",
        "test_set = [\"kuratti is a good person\", \"kuratti is a junk person\", \"dumb person\"]\r\n",
        "new_test = vectorizer.transform(test_set)\r\n",
        "result = clf_svm.predict(new_test)\r\n",
        "# print(result)\r\n",
        "\r\n",
        "\r\n",
        "from sklearn.model_selection import GridSearchCV\r\n",
        "\r\n",
        "parameters = {'kernel':('linear', 'rbf'), 'C':[1, 10]}\r\n",
        "svc = svm.SVC()\r\n",
        "clf = GridSearchCV(svc, parameters, cv=5)\r\n",
        "clf.fit(train_data_vect,train_y)\r\n",
        "# print(f1_score(test_y, clf.predict(test_data_vect), average=None,labels=[Sentiment.POSITIVE,Sentiment.NEGATIVE]))\r\n",
        "# import pickle\r\n",
        "# # with open('./Models/sentiment_classifier.pkl', 'wb') as f:\r\n",
        "# # \tpickle.dump(clf, f)\r\n",
        "# with open('./Models/vector.pkl', 'rb') as f:\r\n",
        "# \tvector = pickle.load(f)\r\n",
        "# test_list = [\"Im bad\"]\r\n",
        "# test_data = vector.transform(test_list)\r\n",
        "# with open('./Models/sentiment_classifier.pkl', 'rb') as f:\r\n",
        "# \tloaded_pkl = pickle.load(f)\r\n",
        "\r\n",
        "# print(clf.predict(test_data)[0])\r\n",
        "\r\n",
        "\r\n"
      ],
      "execution_count": 7,
      "outputs": [
        {
          "output_type": "execute_result",
          "data": {
            "text/plain": [
              "GridSearchCV(cv=5, error_score=nan,\n",
              "             estimator=SVC(C=1.0, break_ties=False, cache_size=200,\n",
              "                           class_weight=None, coef0=0.0,\n",
              "                           decision_function_shape='ovr', degree=3,\n",
              "                           gamma='scale', kernel='rbf', max_iter=-1,\n",
              "                           probability=False, random_state=None, shrinking=True,\n",
              "                           tol=0.001, verbose=False),\n",
              "             iid='deprecated', n_jobs=None,\n",
              "             param_grid={'C': [1, 10], 'kernel': ('linear', 'rbf')},\n",
              "             pre_dispatch='2*n_jobs', refit=True, return_train_score=False,\n",
              "             scoring=None, verbose=0)"
            ]
          },
          "metadata": {
            "tags": []
          },
          "execution_count": 7
        }
      ]
    },
    {
      "cell_type": "code",
      "metadata": {
        "colab": {
          "base_uri": "https://localhost:8080/"
        },
        "id": "VLq9yEGDcdgr",
        "outputId": "3f490873-0ac5-430f-b805-64fd34160170"
      },
      "source": [
        "print(clf.predict(test_data_vect[0]))"
      ],
      "execution_count": 6,
      "outputs": [
        {
          "output_type": "stream",
          "text": [
            "['NEGATIVE']\n"
          ],
          "name": "stdout"
        }
      ]
    }
  ]
}